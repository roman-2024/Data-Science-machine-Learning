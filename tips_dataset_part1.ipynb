{
 "cells": [
  {
   "cell_type": "code",
   "execution_count": 1,
   "id": "a8e96a13-2ec0-4f7f-9cfc-33c9da048267",
   "metadata": {},
   "outputs": [],
   "source": [
    "import numpy as np\n",
    "import seaborn as sns\n",
    "import pandas as pd\n",
    "import warnings\n",
    "warnings.filterwarnings(\"ignore\")"
   ]
  },
  {
   "cell_type": "code",
   "execution_count": 2,
   "id": "96da943d-bb87-4c6e-8f15-f5c355d1b18f",
   "metadata": {},
   "outputs": [],
   "source": [
    "import matplotlib.pyplot as plt"
   ]
  },
  {
   "cell_type": "code",
   "execution_count": 3,
   "id": "be16cc9c-7286-4290-a6fe-96cc5e856cd2",
   "metadata": {},
   "outputs": [],
   "source": [
    "tips=sns.load_dataset(\"tips\")"
   ]
  },
  {
   "cell_type": "code",
   "execution_count": 4,
   "id": "07d0abd8-76d2-4755-9305-da2b51544721",
   "metadata": {},
   "outputs": [
    {
     "data": {
      "text/html": [
       "<div>\n",
       "<style scoped>\n",
       "    .dataframe tbody tr th:only-of-type {\n",
       "        vertical-align: middle;\n",
       "    }\n",
       "\n",
       "    .dataframe tbody tr th {\n",
       "        vertical-align: top;\n",
       "    }\n",
       "\n",
       "    .dataframe thead th {\n",
       "        text-align: right;\n",
       "    }\n",
       "</style>\n",
       "<table border=\"1\" class=\"dataframe\">\n",
       "  <thead>\n",
       "    <tr style=\"text-align: right;\">\n",
       "      <th></th>\n",
       "      <th>total_bill</th>\n",
       "      <th>tip</th>\n",
       "      <th>sex</th>\n",
       "      <th>smoker</th>\n",
       "      <th>day</th>\n",
       "      <th>time</th>\n",
       "      <th>size</th>\n",
       "    </tr>\n",
       "  </thead>\n",
       "  <tbody>\n",
       "    <tr>\n",
       "      <th>0</th>\n",
       "      <td>16.99</td>\n",
       "      <td>1.01</td>\n",
       "      <td>Female</td>\n",
       "      <td>No</td>\n",
       "      <td>Sun</td>\n",
       "      <td>Dinner</td>\n",
       "      <td>2</td>\n",
       "    </tr>\n",
       "    <tr>\n",
       "      <th>1</th>\n",
       "      <td>10.34</td>\n",
       "      <td>1.66</td>\n",
       "      <td>Male</td>\n",
       "      <td>No</td>\n",
       "      <td>Sun</td>\n",
       "      <td>Dinner</td>\n",
       "      <td>3</td>\n",
       "    </tr>\n",
       "    <tr>\n",
       "      <th>2</th>\n",
       "      <td>21.01</td>\n",
       "      <td>3.50</td>\n",
       "      <td>Male</td>\n",
       "      <td>No</td>\n",
       "      <td>Sun</td>\n",
       "      <td>Dinner</td>\n",
       "      <td>3</td>\n",
       "    </tr>\n",
       "    <tr>\n",
       "      <th>3</th>\n",
       "      <td>23.68</td>\n",
       "      <td>3.31</td>\n",
       "      <td>Male</td>\n",
       "      <td>No</td>\n",
       "      <td>Sun</td>\n",
       "      <td>Dinner</td>\n",
       "      <td>2</td>\n",
       "    </tr>\n",
       "    <tr>\n",
       "      <th>4</th>\n",
       "      <td>24.59</td>\n",
       "      <td>3.61</td>\n",
       "      <td>Female</td>\n",
       "      <td>No</td>\n",
       "      <td>Sun</td>\n",
       "      <td>Dinner</td>\n",
       "      <td>4</td>\n",
       "    </tr>\n",
       "  </tbody>\n",
       "</table>\n",
       "</div>"
      ],
      "text/plain": [
       "   total_bill   tip     sex smoker  day    time  size\n",
       "0       16.99  1.01  Female     No  Sun  Dinner     2\n",
       "1       10.34  1.66    Male     No  Sun  Dinner     3\n",
       "2       21.01  3.50    Male     No  Sun  Dinner     3\n",
       "3       23.68  3.31    Male     No  Sun  Dinner     2\n",
       "4       24.59  3.61  Female     No  Sun  Dinner     4"
      ]
     },
     "execution_count": 4,
     "metadata": {},
     "output_type": "execute_result"
    }
   ],
   "source": [
    "tips.head()"
   ]
  },
  {
   "cell_type": "code",
   "execution_count": 5,
   "id": "1d8c0f86-0874-44b7-8d9a-e6085e0e4ae7",
   "metadata": {},
   "outputs": [
    {
     "data": {
      "text/plain": [
       "(244, 7)"
      ]
     },
     "execution_count": 5,
     "metadata": {},
     "output_type": "execute_result"
    }
   ],
   "source": [
    "tips.shape"
   ]
  },
  {
   "cell_type": "code",
   "execution_count": 6,
   "id": "a9dfa2a1-7017-46ef-8339-eff2339a4711",
   "metadata": {},
   "outputs": [
    {
     "data": {
      "text/plain": [
       "day\n",
       "Sat     87\n",
       "Sun     76\n",
       "Thur    62\n",
       "Fri     19\n",
       "Name: count, dtype: int64"
      ]
     },
     "execution_count": 6,
     "metadata": {},
     "output_type": "execute_result"
    },
    {
     "data": {
      "image/png": "[encoded data removed]",
      "text/plain": [
       "<Figure size 640x480 with 1 Axes>"
      ]
     },
     "metadata": {},
     "output_type": "display_data"
    }
   ],
   "source": [
    "\n",
    "tips[\"day\"].value_counts().plot(kind=\"pie\",autopct='%1.2f%%')\n",
    "tips[\"day\"].value_counts()"
   ]
  },
  {
   "cell_type": "code",
   "execution_count": 7,
   "id": "df2fa9e1-38a0-4ede-8657-8a5032708989",
   "metadata": {},
   "outputs": [
    {
     "data": {
      "text/plain": [
       "size\n",
       "2    156\n",
       "3     38\n",
       "4     37\n",
       "5      5\n",
       "1      4\n",
       "6      4\n",
       "Name: count, dtype: int64"
      ]
     },
     "execution_count": 7,
     "metadata": {},
     "output_type": "execute_result"
    }
   ],
   "source": [
    "tips[\"size\"].value_counts()"
   ]
  },
  {
   "cell_type": "code",
   "execution_count": 8,
   "id": "b6999433-a374-4286-b1c1-b8864937b5a6",
   "metadata": {},
   "outputs": [
    {
     "data": {
      "text/html": [
       "<div>\n",
       "<style scoped>\n",
       "    .dataframe tbody tr th:only-of-type {\n",
       "        vertical-align: middle;\n",
       "    }\n",
       "\n",
       "    .dataframe tbody tr th {\n",
       "        vertical-align: top;\n",
       "    }\n",
       "\n",
       "    .dataframe thead th {\n",
       "        text-align: right;\n",
       "    }\n",
       "</style>\n",
       "<table border=\"1\" class=\"dataframe\">\n",
       "  <thead>\n",
       "    <tr style=\"text-align: right;\">\n",
       "      <th></th>\n",
       "      <th>Null Values</th>\n",
       "      <th>Percentage Null Values</th>\n",
       "      <th>Total Unique Values</th>\n",
       "      <th>Percentage Unique Values</th>\n",
       "    </tr>\n",
       "  </thead>\n",
       "  <tbody>\n",
       "    <tr>\n",
       "      <th>total_bill</th>\n",
       "      <td>0</td>\n",
       "      <td>0.0</td>\n",
       "      <td>229</td>\n",
       "      <td>93.852459</td>\n",
       "    </tr>\n",
       "    <tr>\n",
       "      <th>tip</th>\n",
       "      <td>0</td>\n",
       "      <td>0.0</td>\n",
       "      <td>123</td>\n",
       "      <td>50.409836</td>\n",
       "    </tr>\n",
       "    <tr>\n",
       "      <th>sex</th>\n",
       "      <td>0</td>\n",
       "      <td>0.0</td>\n",
       "      <td>2</td>\n",
       "      <td>0.819672</td>\n",
       "    </tr>\n",
       "    <tr>\n",
       "      <th>smoker</th>\n",
       "      <td>0</td>\n",
       "      <td>0.0</td>\n",
       "      <td>2</td>\n",
       "      <td>0.819672</td>\n",
       "    </tr>\n",
       "    <tr>\n",
       "      <th>day</th>\n",
       "      <td>0</td>\n",
       "      <td>0.0</td>\n",
       "      <td>4</td>\n",
       "      <td>1.639344</td>\n",
       "    </tr>\n",
       "    <tr>\n",
       "      <th>time</th>\n",
       "      <td>0</td>\n",
       "      <td>0.0</td>\n",
       "      <td>2</td>\n",
       "      <td>0.819672</td>\n",
       "    </tr>\n",
       "    <tr>\n",
       "      <th>size</th>\n",
       "      <td>0</td>\n",
       "      <td>0.0</td>\n",
       "      <td>6</td>\n",
       "      <td>2.459016</td>\n",
       "    </tr>\n",
       "  </tbody>\n",
       "</table>\n",
       "</div>"
      ],
      "text/plain": [
       "            Null Values  Percentage Null Values  Total Unique Values  \\\n",
       "total_bill            0                     0.0                  229   \n",
       "tip                   0                     0.0                  123   \n",
       "sex                   0                     0.0                    2   \n",
       "smoker                0                     0.0                    2   \n",
       "day                   0                     0.0                    4   \n",
       "time                  0                     0.0                    2   \n",
       "size                  0                     0.0                    6   \n",
       "\n",
       "            Percentage Unique Values  \n",
       "total_bill                 93.852459  \n",
       "tip                        50.409836  \n",
       "sex                         0.819672  \n",
       "smoker                      0.819672  \n",
       "day                         1.639344  \n",
       "time                        0.819672  \n",
       "size                        2.459016  "
      ]
     },
     "execution_count": 8,
     "metadata": {},
     "output_type": "execute_result"
    }
   ],
   "source": [
    "stats = {\n",
    "    #'Column Name': data.columns,\n",
    "    'Null Values': tips.isnull().sum(),\n",
    "    'Percentage Null Values': (tips.isnull().sum() / len(tips)) * 100,\n",
    "    'Total Unique Values': tips.nunique(),\n",
    "    'Percentage Unique Values': (tips.nunique() / len(tips)) * 100\n",
    "}\n",
    "\n",
    "# Create a DataFrame from the statistics dictionary\n",
    "stats_df = pd.DataFrame(stats)\n",
    "\n",
    "# Display the DataFrame\n",
    "stats_df"
   ]
  },
  {
   "cell_type": "code",
   "execution_count": 9,
   "id": "597738f6-a142-42ad-9f03-0fd3c4e16319",
   "metadata": {},
   "outputs": [
    {
     "name": "stdout",
     "output_type": "stream",
     "text": [
      "Column: total_bill\n",
      "Total unique values: 229\n",
      "Column: tip\n",
      "Total unique values: 123\n",
      "Column: sex\n",
      "Total unique values: 2\n",
      "Column: smoker\n",
      "Total unique values: 2\n",
      "Column: day\n",
      "Total unique values: 4\n",
      "Column: time\n",
      "Total unique values: 2\n",
      "Column: size\n",
      "Total unique values: 6\n"
     ]
    }
   ],
   "source": [
    "for column in tips.columns:\n",
    "    # Get unique values and their counts\n",
    "    unique_values = tips[column].unique()\n",
    "    num_unique_values = len(unique_values)\n",
    "    \n",
    "    # Print the unique values and total unique count for each column\n",
    "    print(f\"Column: {column}\")\n",
    "    print(f\"Total unique values: {num_unique_values}\")\n",
    "#    print(f\"Unique values: {unique_values}\")\n",
    "#   print()"
   ]
  },
  {
   "cell_type": "code",
   "execution_count": 10,
   "id": "5af8a570-6ae7-4133-a256-b5f7f51aa65b",
   "metadata": {},
   "outputs": [
    {
     "data": {
      "image/png": "[encoded data removed]",
      "text/plain": [
       "<Figure size 640x480 with 1 Axes>"
      ]
     },
     "metadata": {},
     "output_type": "display_data"
    }
   ],
   "source": [
    "#How would you create a boxplot to compare the distribution of total bills on different days of the week?\n",
    "sns.boxplot(data=tips, x=\"day\", y=\"total_bill\")\n",
    "plt.title(\"Distribution of Total Bill by Day\")\n",
    "plt.show()"
   ]
  },
  {
   "cell_type": "code",
   "execution_count": 11,
   "id": "7684db8f-2b79-4ea9-b36c-4056daeff2d0",
   "metadata": {},
   "outputs": [
    {
     "data": {
      "image/png": "[encoded data removed]",
      "text/plain": [
       "<Figure size 640x480 with 1 Axes>"
      ]
     },
     "metadata": {},
     "output_type": "display_data"
    }
   ],
   "source": [
    "#How can you use Seaborn to visualize the relationship between total bill and tip, categorized by smoker status?\n",
    "sns.scatterplot(data=tips, x=\"total_bill\", y=\"tip\", hue=\"smoker\")\n",
    "plt.title(\"Total Bill vs Tip by Smoker Status\")\n",
    "plt.show()"
   ]
  },
  {
   "cell_type": "code",
   "execution_count": 12,
   "id": "81b9a08f-7012-49f3-a1a2-db9949be5201",
   "metadata": {},
   "outputs": [
    {
     "data": {
      "text/plain": [
       "<Axes: xlabel='time', ylabel='tip'>"
      ]
     },
     "execution_count": 12,
     "metadata": {},
     "output_type": "execute_result"
    },
    {
     "data": {
      "image/png": "[encoded data removed]",
      "text/plain": [
       "<Figure size 640x480 with 1 Axes>"
      ]
     },
     "metadata": {},
     "output_type": "display_data"
    }
   ],
   "source": [
    "#How would you visualize the distribution of tips for different times of the day (Lunch vs. Dinner)?\n",
    "sns.violinplot(data=tips,x=\"time\",y=\"tip\")"
   ]
  },
  {
   "cell_type": "code",
   "execution_count": 13,
   "id": "24be9436-9e1c-4a9c-8976-20927e308a8a",
   "metadata": {},
   "outputs": [
    {
     "data": {
      "image/png": "[encoded data removed]",
      "text/plain": [
       "<Figure size 640x480 with 1 Axes>"
      ]
     },
     "metadata": {},
     "output_type": "display_data"
    }
   ],
   "source": [
    "sns.regplot(data=tips, x=\"total_bill\", y=\"tip\")\n",
    "plt.title(\"Total Bill vs Tip with Regression Line\")\n",
    "plt.show()"
   ]
  },
  {
   "cell_type": "code",
   "execution_count": 14,
   "id": "9a767eb4-62e4-4dee-87d3-2201631dd293",
   "metadata": {},
   "outputs": [
    {
     "data": {
      "image/png": "[encoded data removed]",
      "text/plain": [
       "<Figure size 640x480 with 1 Axes>"
      ]
     },
     "metadata": {},
     "output_type": "display_data"
    }
   ],
   "source": [
    "sns.set_theme(style=\"whitegrid\", palette=\"pastel\")\n",
    "\n",
    "sns.boxplot(data=tips, x=\"day\", y=\"total_bill\")\n",
    "plt.title(\"Customized Boxplot: Distribution of Total Bill by Day\")\n",
    "plt.show()"
   ]
  },
  {
   "cell_type": "code",
   "execution_count": 15,
   "id": "686ed27b-8304-4db7-a205-19b06949cac7",
   "metadata": {},
   "outputs": [
    {
     "name": "stdout",
     "output_type": "stream",
     "text": [
      "Average Total Bill: 19.78594262295082\n",
      "Average Tip: 2.99827868852459\n"
     ]
    }
   ],
   "source": [
    "#How can you calculate the average total bill and tip in the dataset?\n",
    "avg_total_bill = tips['total_bill'].mean()\n",
    "avg_tip = tips['tip'].mean()\n",
    "print(f\"Average Total Bill: {avg_total_bill}\")\n",
    "print(f\"Average Tip: {avg_tip}\")"
   ]
  },
  {
   "cell_type": "code",
   "execution_count": 16,
   "id": "42afa8eb-d6b3-43c4-b233-c5f2ea3be8e8",
   "metadata": {},
   "outputs": [
    {
     "data": {
      "text/plain": [
       "'Sat'"
      ]
     },
     "execution_count": 16,
     "metadata": {},
     "output_type": "execute_result"
    }
   ],
   "source": [
    "#How can you determine which day had the highest total bill?\n",
    "highest_bill=tips.groupby(\"day\")[\"total_bill\"].sum()\n",
    "highest_bill_day=highest_bill.idxmax()\n",
    "highest_bill_day"
   ]
  },
  {
   "cell_type": "code",
   "execution_count": 17,
   "id": "580450db-61ee-4a2b-ad3c-3cd87bc2cc54",
   "metadata": {},
   "outputs": [
    {
     "data": {
      "text/html": [
       "<div>\n",
       "<style scoped>\n",
       "    .dataframe tbody tr th:only-of-type {\n",
       "        vertical-align: middle;\n",
       "    }\n",
       "\n",
       "    .dataframe tbody tr th {\n",
       "        vertical-align: top;\n",
       "    }\n",
       "\n",
       "    .dataframe thead th {\n",
       "        text-align: right;\n",
       "    }\n",
       "</style>\n",
       "<table border=\"1\" class=\"dataframe\">\n",
       "  <thead>\n",
       "    <tr style=\"text-align: right;\">\n",
       "      <th></th>\n",
       "      <th>total_bill</th>\n",
       "      <th>tip</th>\n",
       "      <th>sex</th>\n",
       "      <th>smoker</th>\n",
       "      <th>day</th>\n",
       "      <th>time</th>\n",
       "      <th>size</th>\n",
       "      <th>tip_percentage</th>\n",
       "    </tr>\n",
       "  </thead>\n",
       "  <tbody>\n",
       "    <tr>\n",
       "      <th>0</th>\n",
       "      <td>16.99</td>\n",
       "      <td>1.01</td>\n",
       "      <td>Female</td>\n",
       "      <td>No</td>\n",
       "      <td>Sun</td>\n",
       "      <td>Dinner</td>\n",
       "      <td>2</td>\n",
       "      <td>5.944673</td>\n",
       "    </tr>\n",
       "    <tr>\n",
       "      <th>1</th>\n",
       "      <td>10.34</td>\n",
       "      <td>1.66</td>\n",
       "      <td>Male</td>\n",
       "      <td>No</td>\n",
       "      <td>Sun</td>\n",
       "      <td>Dinner</td>\n",
       "      <td>3</td>\n",
       "      <td>16.054159</td>\n",
       "    </tr>\n",
       "    <tr>\n",
       "      <th>2</th>\n",
       "      <td>21.01</td>\n",
       "      <td>3.50</td>\n",
       "      <td>Male</td>\n",
       "      <td>No</td>\n",
       "      <td>Sun</td>\n",
       "      <td>Dinner</td>\n",
       "      <td>3</td>\n",
       "      <td>16.658734</td>\n",
       "    </tr>\n",
       "    <tr>\n",
       "      <th>3</th>\n",
       "      <td>23.68</td>\n",
       "      <td>3.31</td>\n",
       "      <td>Male</td>\n",
       "      <td>No</td>\n",
       "      <td>Sun</td>\n",
       "      <td>Dinner</td>\n",
       "      <td>2</td>\n",
       "      <td>13.978041</td>\n",
       "    </tr>\n",
       "    <tr>\n",
       "      <th>4</th>\n",
       "      <td>24.59</td>\n",
       "      <td>3.61</td>\n",
       "      <td>Female</td>\n",
       "      <td>No</td>\n",
       "      <td>Sun</td>\n",
       "      <td>Dinner</td>\n",
       "      <td>4</td>\n",
       "      <td>14.680765</td>\n",
       "    </tr>\n",
       "  </tbody>\n",
       "</table>\n",
       "</div>"
      ],
      "text/plain": [
       "   total_bill   tip     sex smoker  day    time  size  tip_percentage\n",
       "0       16.99  1.01  Female     No  Sun  Dinner     2        5.944673\n",
       "1       10.34  1.66    Male     No  Sun  Dinner     3       16.054159\n",
       "2       21.01  3.50    Male     No  Sun  Dinner     3       16.658734\n",
       "3       23.68  3.31    Male     No  Sun  Dinner     2       13.978041\n",
       "4       24.59  3.61  Female     No  Sun  Dinner     4       14.680765"
      ]
     },
     "execution_count": 17,
     "metadata": {},
     "output_type": "execute_result"
    }
   ],
   "source": [
    "#How do you add a new column to the dataset that represents the percentage tip given (tip as a percentage of the total bill)?\n",
    "tips['tip_percentage'] = (tips['tip'] / tips['total_bill']) * 100\n",
    "tips.head()"
   ]
  },
  {
   "cell_type": "code",
   "execution_count": 18,
   "id": "634504a0-9c65-4d74-8077-ec22970a58e9",
   "metadata": {},
   "outputs": [
    {
     "data": {
      "text/html": [
       "<div>\n",
       "<style scoped>\n",
       "    .dataframe tbody tr th:only-of-type {\n",
       "        vertical-align: middle;\n",
       "    }\n",
       "\n",
       "    .dataframe tbody tr th {\n",
       "        vertical-align: top;\n",
       "    }\n",
       "\n",
       "    .dataframe thead th {\n",
       "        text-align: right;\n",
       "    }\n",
       "</style>\n",
       "<table border=\"1\" class=\"dataframe\">\n",
       "  <thead>\n",
       "    <tr style=\"text-align: right;\">\n",
       "      <th></th>\n",
       "      <th>total_bill</th>\n",
       "      <th>tip</th>\n",
       "      <th>sex</th>\n",
       "      <th>smoker</th>\n",
       "      <th>day</th>\n",
       "      <th>time</th>\n",
       "      <th>size</th>\n",
       "      <th>tip_percentage</th>\n",
       "    </tr>\n",
       "  </thead>\n",
       "  <tbody>\n",
       "    <tr>\n",
       "      <th>4</th>\n",
       "      <td>24.59</td>\n",
       "      <td>3.61</td>\n",
       "      <td>Female</td>\n",
       "      <td>No</td>\n",
       "      <td>Sun</td>\n",
       "      <td>Dinner</td>\n",
       "      <td>4</td>\n",
       "      <td>14.680765</td>\n",
       "    </tr>\n",
       "    <tr>\n",
       "      <th>5</th>\n",
       "      <td>25.29</td>\n",
       "      <td>4.71</td>\n",
       "      <td>Male</td>\n",
       "      <td>No</td>\n",
       "      <td>Sun</td>\n",
       "      <td>Dinner</td>\n",
       "      <td>4</td>\n",
       "      <td>18.623962</td>\n",
       "    </tr>\n",
       "    <tr>\n",
       "      <th>7</th>\n",
       "      <td>26.88</td>\n",
       "      <td>3.12</td>\n",
       "      <td>Male</td>\n",
       "      <td>No</td>\n",
       "      <td>Sun</td>\n",
       "      <td>Dinner</td>\n",
       "      <td>4</td>\n",
       "      <td>11.607143</td>\n",
       "    </tr>\n",
       "    <tr>\n",
       "      <th>11</th>\n",
       "      <td>35.26</td>\n",
       "      <td>5.00</td>\n",
       "      <td>Female</td>\n",
       "      <td>No</td>\n",
       "      <td>Sun</td>\n",
       "      <td>Dinner</td>\n",
       "      <td>4</td>\n",
       "      <td>14.180374</td>\n",
       "    </tr>\n",
       "    <tr>\n",
       "      <th>13</th>\n",
       "      <td>18.43</td>\n",
       "      <td>3.00</td>\n",
       "      <td>Male</td>\n",
       "      <td>No</td>\n",
       "      <td>Sun</td>\n",
       "      <td>Dinner</td>\n",
       "      <td>4</td>\n",
       "      <td>16.277808</td>\n",
       "    </tr>\n",
       "  </tbody>\n",
       "</table>\n",
       "</div>"
      ],
      "text/plain": [
       "    total_bill   tip     sex smoker  day    time  size  tip_percentage\n",
       "4        24.59  3.61  Female     No  Sun  Dinner     4       14.680765\n",
       "5        25.29  4.71    Male     No  Sun  Dinner     4       18.623962\n",
       "7        26.88  3.12    Male     No  Sun  Dinner     4       11.607143\n",
       "11       35.26  5.00  Female     No  Sun  Dinner     4       14.180374\n",
       "13       18.43  3.00    Male     No  Sun  Dinner     4       16.277808"
      ]
     },
     "execution_count": 18,
     "metadata": {},
     "output_type": "execute_result"
    }
   ],
   "source": [
    "#How would you filter the dataset to include only dinner-time transactions with parties of 4 or more?\n",
    "dinner_large_parties = tips[(tips['time'] == 'Dinner') & (tips['size'] >= 4)]\n",
    "dinner_large_parties.head()"
   ]
  },
  {
   "cell_type": "code",
   "execution_count": 19,
   "id": "0d9f5381-8231-4b9b-b8f5-8598b8cb4f31",
   "metadata": {},
   "outputs": [
    {
     "name": "stdout",
     "output_type": "stream",
     "text": [
      "day\n",
      "Thur    2.771452\n",
      "Fri     2.734737\n",
      "Sat     2.993103\n",
      "Sun     3.255132\n",
      "Name: tip, dtype: float64\n"
     ]
    }
   ],
   "source": [
    "#How can you group the dataset by day and calculate the average tip for each day?\n",
    "avg_tip_per_day = tips.groupby('day')['tip'].mean()\n",
    "print(avg_tip_per_day)"
   ]
  },
  {
   "cell_type": "code",
   "execution_count": 20,
   "id": "d7a75319-61d1-4bc9-ab70-6f52272bd2f7",
   "metadata": {},
   "outputs": [
    {
     "data": {
      "text/plain": [
       "0.6757341092113641"
      ]
     },
     "execution_count": 20,
     "metadata": {},
     "output_type": "execute_result"
    }
   ],
   "source": [
    "# How would you find the correlation between total bill and tip?\n",
    "corr_bill_tip=tips[\"total_bill\"].corr(tips[\"tip\"])\n",
    "corr_bill_tip"
   ]
  },
  {
   "cell_type": "code",
   "execution_count": 21,
   "id": "0addad8b-47c4-432a-9eb6-aab5eb8ce762",
   "metadata": {},
   "outputs": [
    {
     "data": {
      "text/html": [
       "<div>\n",
       "<style scoped>\n",
       "    .dataframe tbody tr th:only-of-type {\n",
       "        vertical-align: middle;\n",
       "    }\n",
       "\n",
       "    .dataframe tbody tr th {\n",
       "        vertical-align: top;\n",
       "    }\n",
       "\n",
       "    .dataframe thead th {\n",
       "        text-align: right;\n",
       "    }\n",
       "</style>\n",
       "<table border=\"1\" class=\"dataframe\">\n",
       "  <thead>\n",
       "    <tr style=\"text-align: right;\">\n",
       "      <th></th>\n",
       "      <th>total_bill</th>\n",
       "      <th>tip</th>\n",
       "      <th>sex</th>\n",
       "      <th>smoker</th>\n",
       "      <th>day</th>\n",
       "      <th>time</th>\n",
       "      <th>size</th>\n",
       "      <th>tip_percentage</th>\n",
       "    </tr>\n",
       "  </thead>\n",
       "  <tbody>\n",
       "    <tr>\n",
       "      <th>170</th>\n",
       "      <td>50.81</td>\n",
       "      <td>10.00</td>\n",
       "      <td>Male</td>\n",
       "      <td>Yes</td>\n",
       "      <td>Sat</td>\n",
       "      <td>Dinner</td>\n",
       "      <td>3</td>\n",
       "      <td>19.681165</td>\n",
       "    </tr>\n",
       "    <tr>\n",
       "      <th>212</th>\n",
       "      <td>48.33</td>\n",
       "      <td>9.00</td>\n",
       "      <td>Male</td>\n",
       "      <td>No</td>\n",
       "      <td>Sat</td>\n",
       "      <td>Dinner</td>\n",
       "      <td>4</td>\n",
       "      <td>18.621974</td>\n",
       "    </tr>\n",
       "    <tr>\n",
       "      <th>59</th>\n",
       "      <td>48.27</td>\n",
       "      <td>6.73</td>\n",
       "      <td>Male</td>\n",
       "      <td>No</td>\n",
       "      <td>Sat</td>\n",
       "      <td>Dinner</td>\n",
       "      <td>4</td>\n",
       "      <td>13.942407</td>\n",
       "    </tr>\n",
       "    <tr>\n",
       "      <th>156</th>\n",
       "      <td>48.17</td>\n",
       "      <td>5.00</td>\n",
       "      <td>Male</td>\n",
       "      <td>No</td>\n",
       "      <td>Sun</td>\n",
       "      <td>Dinner</td>\n",
       "      <td>6</td>\n",
       "      <td>10.379905</td>\n",
       "    </tr>\n",
       "    <tr>\n",
       "      <th>182</th>\n",
       "      <td>45.35</td>\n",
       "      <td>3.50</td>\n",
       "      <td>Male</td>\n",
       "      <td>Yes</td>\n",
       "      <td>Sun</td>\n",
       "      <td>Dinner</td>\n",
       "      <td>3</td>\n",
       "      <td>7.717751</td>\n",
       "    </tr>\n",
       "  </tbody>\n",
       "</table>\n",
       "</div>"
      ],
      "text/plain": [
       "     total_bill    tip   sex smoker  day    time  size  tip_percentage\n",
       "170       50.81  10.00  Male    Yes  Sat  Dinner     3       19.681165\n",
       "212       48.33   9.00  Male     No  Sat  Dinner     4       18.621974\n",
       "59        48.27   6.73  Male     No  Sat  Dinner     4       13.942407\n",
       "156       48.17   5.00  Male     No  Sun  Dinner     6       10.379905\n",
       "182       45.35   3.50  Male    Yes  Sun  Dinner     3        7.717751"
      ]
     },
     "execution_count": 21,
     "metadata": {},
     "output_type": "execute_result"
    }
   ],
   "source": [
    "#How can you sort the dataset by total bill in descending order?\n",
    "sorted_tips = tips.sort_values(by='total_bill', ascending=False)\n",
    "sorted_tips.head()"
   ]
  },
  {
   "cell_type": "code",
   "execution_count": 22,
   "id": "d77fdb79-fcbd-4818-ac0d-b154ed6b6cbe",
   "metadata": {},
   "outputs": [
    {
     "name": "stdout",
     "output_type": "stream",
     "text": [
      "Most common tip amount: 2.0\n"
     ]
    }
   ],
   "source": [
    "# How would you find the most common tip amount in the dataset?\n",
    "most_common_tip = tips['tip'].mode()[0]\n",
    "print(f\"Most common tip amount: {most_common_tip}\")"
   ]
  },
  {
   "cell_type": "markdown",
   "id": "c2e4df8c-369c-46b0-97d2-68a9e84df4f1",
   "metadata": {},
   "source": [
    "**Question: Analyze the impact of party size on the tip percentage, and determine if larger parties tend to tip more generously. Additionally, account for potential confounding factors such as time of day (Lunch vs. Dinner) and smoker status.**"
   ]
  },
  {
   "cell_type": "code",
   "execution_count": null,
   "id": "cf4a81c6-a84d-44f0-ab6c-472b76acd9ea",
   "metadata": {},
   "outputs": [
    {
     "name": "stdout",
     "output_type": "stream",
     "text": [
      "time        Lunch                Dinner           \n",
      "smoker        Yes         No        Yes         No\n",
      "size                                              \n",
      "1       22.377622  18.172790  32.573290  13.793103\n",
      "2       16.526646  16.600549  16.724556  16.438257\n",
      "3       20.495178  11.874209  14.806081  15.370533\n",
      "4       15.540960  13.891885  13.906415  14.873740\n",
      "5             NaN  12.138869   8.611591  20.692847\n",
      "6             NaN  17.370592        NaN  10.379905\n"
     ]
    }
   ],
   "source": [
    "\n",
    "# Calculate tip percentage\n",
    "tips['tip_percentage'] = (tips['tip'] / tips['total_bill']) * 100\n",
    "\n",
    "# Group by party size, time, and smoker status\n",
    "grouped = tips.groupby(['size', 'time', 'smoker'])['tip_percentage'].mean().reset_index()\n",
    "\n",
    "# Pivot the data to make it easier to compare\n",
    "pivot_table = grouped.pivot_table(values='tip_percentage', \n",
    "                                  index=['size'], \n",
    "                                  columns=['time', 'smoker'])\n",
    "\n",
    "print(pivot_table)\n",
    "\n",
    "# Visualization: Plot the impact of party size on tip percentage\n",
    "sns.set(style=\"whitegrid\")\n",
    "\n",
    "plt.figure(figsize=(12, 8))\n",
    "sns.lineplot(data=grouped, x='size', y='tip_percentage', hue='time', style='smoker', markers=True)\n",
    "plt.title('Impact of Party Size on Tip Percentage by Time and Smoker Status')\n",
    "plt.xlabel('Party Size')\n",
    "plt.ylabel('Average Tip Percentage')\n",
    "plt.show()"
   ]
  },
  {
   "cell_type": "code",
   "execution_count": null,
   "id": "5c8358cc-45b8-4e5f-8931-fc8493c8dd77",
   "metadata": {},
   "outputs": [],
   "source": [
    "pivot_table"
   ]
  },
  {
   "cell_type": "markdown",
   "id": "0e33a2b4-ce8a-4cd4-ae88-ce309ca46aee",
   "metadata": {},
   "source": [
    "**Question: Identify any anomalies in tipping behavior by analyzing the relationship between the total bill, tip percentage, and other factors such as day of the week and gender. Specifically, detect outliers in tip percentages and investigate whether these outliers are concentrated in specific groups.**"
   ]
  },
  {
   "cell_type": "code",
   "execution_count": null,
   "id": "80dddada-7884-4110-a15d-75ca0b194c78",
   "metadata": {},
   "outputs": [],
   "source": [
    "\n",
    "# Calculate tip percentage\n",
    "tips['tip_percentage'] = (tips['tip'] / tips['total_bill']) * 100\n",
    "\n",
    "# Identify outliers using the IQR method\n",
    "Q1 = tips['tip_percentage'].quantile(0.25)\n",
    "Q3 = tips['tip_percentage'].quantile(0.75)\n",
    "IQR = Q3 - Q1\n",
    "\n",
    "# Define outliers as points outside 1.5 * IQR from Q1 and Q3\n",
    "lower_bound = Q1 - 1.5 * IQR\n",
    "upper_bound = Q3 + 1.5 * IQR\n",
    "\n",
    "# Filter out the outliers\n",
    "outliers = tips[(tips['tip_percentage'] < lower_bound) | (tips['tip_percentage'] > upper_bound)]\n",
    "\n",
    "print(f\"Number of outliers detected: {len(outliers)}\")\n",
    "print(outliers[['total_bill', 'tip', 'tip_percentage', 'day', 'sex']])\n",
    "\n",
    "# Grouping outliers by day and gender\n",
    "outlier_analysis = outliers.groupby(['day', 'sex'])['tip_percentage'].count().reset_index()\n",
    "\n",
    "print(\"\\nOutlier Count by Day and Gender:\")\n",
    "print(outlier_analysis)\n",
    "\n",
    "# Visualization: Plotting outliers\n",
    "plt.figure(figsize=(12, 8))\n",
    "sns.scatterplot(data=outliers, x='total_bill', y='tip_percentage', hue='day', style='sex', s=100)\n",
    "plt.axhline(y=upper_bound, color='r', linestyle='--', label='Upper Bound')\n",
    "plt.axhline(y=lower_bound, color='k', linestyle='--', label='Lower Bound')\n",
    "plt.title('Outliers in Tip Percentage by Total Bill, Day, and Gender')\n",
    "plt.xlabel('Total Bill')\n",
    "plt.ylabel('Tip Percentage')\n",
    "plt.legend()\n",
    "plt.show()\n"
   ]
  },
  {
   "cell_type": "code",
   "execution_count": null,
   "id": "34e6311e-c3ae-429e-b6e9-6f2aaa7130b2",
   "metadata": {},
   "outputs": [],
   "source": [
    "outlier_analysis"
   ]
  },
  {
   "cell_type": "code",
   "execution_count": null,
   "id": "14a39e68-08e8-4fb7-a364-70c8c96a6c87",
   "metadata": {},
   "outputs": [],
   "source": [
    "outliers[['total_bill', 'tip', 'tip_percentage', 'day', 'sex']] #Number of outlier detect=4"
   ]
  },
  {
   "cell_type": "code",
   "execution_count": null,
   "id": "a483a2ab-0200-4824-b26c-4e4bdf4df591",
   "metadata": {},
   "outputs": [],
   "source": [
    "plt.figure(figsize=(10,6))\n",
    "plt.subplot(1,2,1)\n",
    "#plt.figure(figsize=(10,6))\n",
    "plt.style.use(\"ggplot\")\n",
    "sns.histplot(tips[\"total_bill\"],bins=50,kde=True,color='darkblue')\n",
    "plt.subplot(1,2,2)\n",
    "plt.title('Histogram of total bill')\n",
    "#plt.figure(figsize=(12,6))\n",
    "plt.subplot(1, 2, 2)\n",
    "sns.histplot(tips['tip'], bins=50, kde=True)\n",
    "plt.title('Histogram of tips')\n",
    "plt.xlabel('Tips')\n",
    "plt.ylabel('Frequency')"
   ]
  },
  {
   "cell_type": "code",
   "execution_count": null,
   "id": "40d2ce8c-b7b5-4749-8f07-37b4fcd0de2c",
   "metadata": {},
   "outputs": [],
   "source": [
    "pd.DataFrame(tips.nunique(),columns=[\"Number Of Unique Values\"])"
   ]
  },
  {
   "cell_type": "code",
   "execution_count": null,
   "id": "d0a1beee-03d8-4229-b881-cfb54e901257",
   "metadata": {},
   "outputs": [],
   "source": [
    "categorical_features = [\"day\", \"sex\", \"smoker\"]\n",
    "print(categorical_features)"
   ]
  },
  {
   "cell_type": "code",
   "execution_count": null,
   "id": "ae41dbea-1e79-496e-895c-031a166e1925",
   "metadata": {},
   "outputs": [],
   "source": [
    "for column in categorical_features:\n",
    "    counts = tips[column].value_counts()\n",
    "    sns.color_palette(\"bright\")\n",
    "    plt.figure(figsize=(10, 6))\n",
    "    plt.pie(counts, labels=counts.index, autopct='%1.1f%%', startangle=140)\n",
    "    plt.title(f'Pie chart for {column}', fontdict={\"color\" : \"darkblue\", \"weight\" : \"bold\", \"size\" : 15})\n",
    "    plt.axis('equal')\n",
    "    plt.legend()\n",
    "    plt.show()"
   ]
  },
  {
   "cell_type": "code",
   "execution_count": null,
   "id": "644a358d-254e-4489-84de-fc511a5dc8e1",
   "metadata": {},
   "outputs": [],
   "source": [
    "# Seperating Numeric and Categoreical Variables\n",
    "numeric_features = [\"total_bill\", \"tip\", \"size\"]\n",
    "categorical_features = [\"day\", \"sex\", \"smoker\"]"
   ]
  },
  {
   "cell_type": "code",
   "execution_count": null,
   "id": "ac9168c4-177f-46b0-9f53-418f9b77d04c",
   "metadata": {},
   "outputs": [],
   "source": [
    "def scatter(col):\n",
    "    plt.figure(figsize=(8, 6))\n",
    "    sns.set_style(\"darkgrid\")\n",
    "    sns.regplot(data=tips, x=col, y='tip', color='blue', line_kws={\"color\": 'black'})\n",
    "    plt.title(f\"{col} Vs tip\", fontdict={\"color\" : \"darkred\", \"weight\" : \"bold\", \"size\" : 15})\n",
    "    plt.xlabel(col, fontdict={\"color\": \"darkblue\", \"weight\": \"bold\", \"size\": 10})\n",
    "    plt.ylabel('Price', fontdict={\"color\": \"darkblue\", \"weight\": \"bold\", \"size\": 10})\n",
    "    plt.show()"
   ]
  },
  {
   "cell_type": "code",
   "execution_count": null,
   "id": "3b0bccbf-dbb6-44d7-97b7-7f6a52ac2f27",
   "metadata": {},
   "outputs": [],
   "source": [
    "scatter(\"total_bill\")"
   ]
  },
  {
   "cell_type": "code",
   "execution_count": null,
   "id": "2c624232-ddf3-4e9e-821f-ec372055a806",
   "metadata": {},
   "outputs": [],
   "source": [
    "scatter(\"size\")"
   ]
  },
  {
   "cell_type": "code",
   "execution_count": null,
   "id": "61a88236-05c8-4e45-97d9-e95e15bf238d",
   "metadata": {},
   "outputs": [],
   "source": [
    "def bivariate_barplot(col):\n",
    "    \"\"\"This method would compare price by each categorical feature\"\"\"\n",
    "    # Bar Plots with Aggregated Metrics\n",
    "    mean = tips.groupby(col)['total_bill'].mean()\n",
    "    plt.figure(figsize=(10, 6))\n",
    "    sns.barplot(x=mean.index, y=mean.values, palette='rainbow')\n",
    "    plt.title(f'total bill by {col}', fontdict={\"color\" : \"darkred\", \"weight\" : \"bold\", \"size\" : 15})\n",
    "    plt.xlabel(col, fontdict={\"color\" : \"darkblue\", \"weight\" : \"bold\", \"size\" : 10})\n",
    "    plt.ylabel('total bill', fontdict={\"color\" : \"darkblue\", \"weight\" : \"bold\", \"size\" : 10})\n",
    "    plt.show()"
   ]
  },
  {
   "cell_type": "code",
   "execution_count": null,
   "id": "8eea34bb-275b-4e74-bbf6-484fce20be4d",
   "metadata": {},
   "outputs": [],
   "source": [
    "bivariate_barplot(\"sex\")"
   ]
  },
  {
   "cell_type": "code",
   "execution_count": null,
   "id": "073a0573-53c6-48cd-a11b-7e25a1ddb28a",
   "metadata": {},
   "outputs": [],
   "source": [
    "bivariate_barplot(\"day\")"
   ]
  },
  {
   "cell_type": "code",
   "execution_count": null,
   "id": "337bbd0d-a954-4b18-b863-a7039a7f2301",
   "metadata": {},
   "outputs": [],
   "source": [
    "bivariate_barplot(\"smoker\")"
   ]
  },
  {
   "cell_type": "code",
   "execution_count": null,
   "id": "c78ab83e-3d16-41c0-a7f2-fb40efff65a8",
   "metadata": {},
   "outputs": [],
   "source": [
    "def pointplot(col):\n",
    "    plt.figure(figsize=(10, 6))\n",
    "    sns.pointplot(data=tips, x=col, y='tip', color='purple', ci=None)\n",
    "    plt.title(f'Point plot of {col} vs tip', fontdict={\"color\" : \"darkred\", \"weight\" : \"bold\", \"size\" : 15})\n",
    "    plt.xlabel(col, fontdict={\"color\" : \"darkblue\", \"weight\" : \"bold\", \"size\" : 10})\n",
    "    plt.ylabel('tip', fontdict={\"color\" : \"darkblue\", \"weight\" : \"bold\", \"size\" : 10})\n",
    "#    plt.legend()\n",
    "    plt.show()"
   ]
  },
  {
   "cell_type": "code",
   "execution_count": null,
   "id": "6639cd54-a356-441a-bb40-aabfb5a2fa06",
   "metadata": {},
   "outputs": [],
   "source": [
    "pointplot(\"day\")"
   ]
  },
  {
   "cell_type": "code",
   "execution_count": null,
   "id": "f917aef1-3ded-49ce-b091-1acc4a6f9807",
   "metadata": {},
   "outputs": [],
   "source": [
    "pointplot(\"sex\")"
   ]
  },
  {
   "cell_type": "code",
   "execution_count": null,
   "id": "bfef7357-8bb8-47d5-8db3-365a7a7afbc9",
   "metadata": {},
   "outputs": [],
   "source": [
    "pointplot(\"smoker\")"
   ]
  },
  {
   "cell_type": "code",
   "execution_count": null,
   "id": "70f652d7-5f1b-4915-8738-1d8904a5724d",
   "metadata": {},
   "outputs": [],
   "source": [
    "#calculate the average tip percentage for each day of the week and visualze the result\n",
    "tips_percent=tips.groupby(\"day\")[\"tip_percentage\"].mean().reset_index()\n",
    "#visualization\n",
    "sns.barplot(x=\"day\",y=\"tip_percentage\",data=tips_percent)"
   ]
  },
  {
   "cell_type": "code",
   "execution_count": null,
   "id": "d6c2594b-23d5-48fa-af06-bdfdbca08d30",
   "metadata": {},
   "outputs": [],
   "source": [
    "#Find the correalation between the total bill,tip and size\n",
    "core=tips[[\"total_bill\",\"tip\",\"size\"]].corr()\n",
    "core"
   ]
  },
  {
   "cell_type": "code",
   "execution_count": null,
   "id": "9dbf4060-c87f-4c7a-a2db-522987c3969f",
   "metadata": {},
   "outputs": [],
   "source": [
    "#identify the day with the highest average total bill and determine the corresponding tip percentage\n",
    "highest_avg_bill=tips.groupby(\"day\").agg({\"total_bill\":\"mean\",\"tip_percentage\":\"mean\"}).reset_index()\n",
    "highest_avg_bill.iloc[0]"
   ]
  },
  {
   "cell_type": "code",
   "execution_count": null,
   "id": "ae268676-fc5a-433c-b870-82db621af201",
   "metadata": {},
   "outputs": [],
   "source": [
    "#Determine if theresa significent difference in tipping behaviour between smokers and non smokers using statistical testing\n",
    "#smoker_tips=tips[tips[\"smoker\"]==\"Yes\"][\"tip_percentage\"]\n",
    "#nonsmoker_tips=tips[tips[\"smoker\"]==\"No\"][\"tip_percentage\"]\n",
    "#t_stat,p_value=stats.ttest_ind(smoker_tips,nonsmoker_tips)\n",
    "#t_stat,p_value"
   ]
  },
  {
   "cell_type": "code",
   "execution_count": null,
   "id": "bc236889-b448-4237-9ae3-bb372e46160d",
   "metadata": {},
   "outputs": [],
   "source": [
    "#Identify the top 3 most genrous customers by calculating the highest tip percentage\n",
    "top_gen_customers=tips.sort_values(\"tip_percentage\",ascending=False).head(3)\n",
    "top_gen_customers[[\"total_bill\",\"tip\",\"tip_percentage\"]]"
   ]
  },
  {
   "cell_type": "code",
   "execution_count": null,
   "id": "0c47e699-b183-44e5-8441-2d1d6ea7f07b",
   "metadata": {},
   "outputs": [],
   "source": [
    "#compare the average total bill for each gender using a bar chart\n",
    "avg_bill_gen=tips.groupby(\"sex\")[\"total_bill\"].mean().reset_index()\n",
    "sns.barplot(x=\"sex\",y=\"total_bill\",data=avg_bill_gen)\n"
   ]
  },
  {
   "cell_type": "code",
   "execution_count": null,
   "id": "57c3778d-1aa0-4556-a330-39479ca83f31",
   "metadata": {},
   "outputs": [],
   "source": [
    "#Investigate if the size of the dining party affects the tip percentage using a scatter plot\n",
    "sns.scatterplot(x=\"size\",y=\"tip_percentage\",data=tips)"
   ]
  },
  {
   "cell_type": "code",
   "execution_count": null,
   "id": "8a8ffcdf-4994-4933-9ac5-639cc6b1fde2",
   "metadata": {},
   "outputs": [],
   "source": [
    "#Analyze the average tip amount for different combinations of gender and smoker status\n",
    "avg_tip_by_gender=tips.groupby([\"sex\",\"smoker\"])[\"tip\"].mean().reset_index()\n",
    "sns.barplot(x=\"sex\",y=\"tip\",hue=\"smoker\",data=avg_tip_by_gender)"
   ]
  },
  {
   "cell_type": "code",
   "execution_count": null,
   "id": "a1c8026a-3669-40e7-a213-a0b6daf4f244",
   "metadata": {},
   "outputs": [],
   "source": [
    "#Create a boxplot to compare the percentage across different days of the week\n",
    "sns.boxplot(x=\"day\",y=\"tip_percentage\",data=tips)"
   ]
  },
  {
   "cell_type": "code",
   "execution_count": null,
   "id": "f5379dd3-1d11-4d8c-b2fe-dec904f01d42",
   "metadata": {},
   "outputs": [],
   "source": [
    "#17\n",
    "day_variability=tips.groupby(\"day\")[\"total_bill\"].std().reset_index().sort_values(\"total_bill\",ascending=False)\n",
    "day_variability.iloc[0]"
   ]
  },
  {
   "cell_type": "code",
   "execution_count": null,
   "id": "8b23e9fa-27a6-480e-a59a-510451280a50",
   "metadata": {},
   "outputs": [],
   "source": []
  }
 ],
 "metadata": {
  "kernelspec": {
   "display_name": "Python 3 (ipykernel)",
   "language": "python",
   "name": "python3"
  },
  "language_info": {
   "codemirror_mode": {
    "name": "ipython",
    "version": 3
   },
   "file_extension": ".py",
   "mimetype": "text/x-python",
   "name": "python",
   "nbconvert_exporter": "python",
   "pygments_lexer": "ipython3",
   "version": "3.12.4"
  }
 },
 "nbformat": 4,
 "nbformat_minor": 5
}
